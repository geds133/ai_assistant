{
 "cells": [
  {
   "cell_type": "code",
   "execution_count": 40,
   "metadata": {},
   "outputs": [],
   "source": [
    "from openai import OpenAI\n",
    "import os\n",
    "client = OpenAI(api_key=os.environ['open_ai_key'])"
   ]
  },
  {
   "cell_type": "code",
   "execution_count": 43,
   "metadata": {},
   "outputs": [],
   "source": [
    "# Function to interact with the OpenAI API\n",
    "def ask_llm(prompt):\n",
    "    response = client.chat.completions.create(\n",
    "        model='gpt-4o',\n",
    "        messages=[\n",
    "            {\"role\": \"system\", \"content\": \"You are a helpful assistant.\"},\n",
    "            {\"role\": \"user\", \"content\": prompt}\n",
    "        ],\n",
    "        max_tokens=1000,\n",
    "        temperature=0.1\n",
    "    )\n",
    "    return response.choices[0].message.content"
   ]
  },
  {
   "cell_type": "code",
   "execution_count": 45,
   "metadata": {},
   "outputs": [
    {
     "name": "stdout",
     "output_type": "stream",
     "text": [
      "LLM Response: Legal & General Investment Management (LGIM) is one of the largest asset managers in Europe. Its main competitors include other large asset management firms that operate on a global scale. Some of these competitors are:\n",
      "\n",
      "1. **BlackRock**: The world's largest asset manager, known for its iShares ETF brand.\n",
      "2. **Vanguard**: Another major player, particularly known for its low-cost index funds and ETFs.\n",
      "3. **Fidelity Investments**: A significant competitor with a broad range of mutual funds, ETFs, and other investment products.\n",
      "4. **State Street Global Advisors**: Known for its SPDR ETFs, it is one of the largest asset managers globally.\n",
      "5. **Schroders**: A UK-based asset manager with a strong global presence.\n",
      "6. **J.P. Morgan Asset Management**: Part of JPMorgan Chase, offering a wide range of investment products.\n",
      "7. **Invesco**: Known for its mutual funds and ETFs, including the PowerShares brand.\n",
      "8. **Amundi**: Europe's largest asset manager, based in France.\n",
      "9. **Allianz Global Investors**: Part of the Allianz Group, offering a wide range of investment solutions.\n",
      "10. **BNY Mellon Investment Management**: A major player with a diverse range of investment products.\n",
      "\n",
      "These firms compete with LGIM across various dimensions, including investment performance, fees, product offerings, and customer service.\n"
     ]
    }
   ],
   "source": [
    "prompt = \"Who are LGIMs main competitora?\"\n",
    "\n",
    "# Call the function and print the result\n",
    "answer = ask_llm(prompt)\n",
    "print(f\"LLM Response: {answer}\")"
   ]
  }
 ],
 "metadata": {
  "kernelspec": {
   "display_name": "virtualenvs",
   "language": "python",
   "name": "python3"
  },
  "language_info": {
   "codemirror_mode": {
    "name": "ipython",
    "version": 3
   },
   "file_extension": ".py",
   "mimetype": "text/x-python",
   "name": "python",
   "nbconvert_exporter": "python",
   "pygments_lexer": "ipython3",
   "version": "3.11.0"
  }
 },
 "nbformat": 4,
 "nbformat_minor": 2
}
